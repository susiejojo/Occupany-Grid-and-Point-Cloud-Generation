{
 "cells": [
  {
   "cell_type": "markdown",
   "metadata": {},
   "source": [
    "# Assignment 2.2 - Occupancy Grid Construction"
   ]
  },
  {
   "cell_type": "markdown",
   "metadata": {},
   "source": [
    "### Importing necessary libraries"
   ]
  },
  {
   "cell_type": "code",
   "execution_count": 16,
   "metadata": {},
   "outputs": [],
   "source": [
    "import sys\n",
    "import numpy as np\n",
    "import open3d as o3d\n",
    "import cv2 as cv\n",
    "import matplotlib.pyplot as plt\n",
    "import pandas as pd\n",
    "import IPython\n",
    "from PIL import Image\n",
    "# sys.path.insert(1, \"../dataset\")\n",
    "sys.path.insert(1, \"../Assignment_2.1\")\n",
    "from A21 import computePoseCameraFrame"
   ]
  },
  {
   "cell_type": "markdown",
   "metadata": {},
   "source": [
    "### Step by step explanation of the process for a single bin file (Just for explanation, the whole code has been modularised below)"
   ]
  },
  {
   "cell_type": "markdown",
   "metadata": {},
   "source": [
    "#### Read 0000000.bin using functions from 2.1, store the point cloud and round off the scan's x,y,z readings for discretization. Output is the rounded off pcd printed as a numpy array."
   ]
  },
  {
   "cell_type": "code",
   "execution_count": 18,
   "metadata": {},
   "outputs": [
    {
     "name": "stdout",
     "output_type": "stream",
     "text": [
      "[[ -6.  -2.  52.]\n",
      " [-13.  -3.  79.]\n",
      " [-13.  -3.  79.]\n",
      " ...\n",
      " [  1.   2.   4.]\n",
      " [  1.   2.   4.]\n",
      " [  1.   2.   4.]]\n"
     ]
    }
   ],
   "source": [
    "poses = computePoseCameraFrame(0)\n",
    "pcd = o3d.geometry.PointCloud()\n",
    "pcd.points = o3d.utility.Vector3dVector(poses[:,:3])\n",
    "# print (np.asarray(pcd.points))\n",
    "# o3d.visualization.draw_geometries([pcd])\n",
    "pcd1 = np.round(np.asarray(pcd.points))\n",
    "print (pcd1)"
   ]
  },
  {
   "cell_type": "markdown",
   "metadata": {},
   "source": [
    "#### Converting the scans into a Pandas dataframe, dropping duplicate rows and grouping by x,z to create all pairs of (x,z). Output displays the count of distinct y readings for every (x,z) pair"
   ]
  },
  {
   "cell_type": "code",
   "execution_count": 3,
   "metadata": {},
   "outputs": [
    {
     "name": "stdout",
     "output_type": "stream",
     "text": [
      "             y\n",
      "x     z       \n",
      "-74.0  30.0  1\n",
      "-72.0 -36.0  1\n",
      "      -34.0  5\n",
      "      -33.0  1\n",
      "-71.0 -38.0  1\n",
      "...         ..\n",
      " 73.0  23.0  2\n",
      "       24.0  1\n",
      " 74.0  17.0  1\n",
      "       23.0  2\n",
      " 75.0  23.0  1\n",
      "\n",
      "[5894 rows x 1 columns]\n"
     ]
    }
   ],
   "source": [
    "pcd_df = pd.DataFrame(data=pcd1,columns=['x','y','z'])\n",
    "pcd_df.drop_duplicates(subset = [\"y\",\"x\",\"z\"],inplace=True)\n",
    "pts = pcd_df.groupby(['x','z']).count().index\n",
    "counts = pcd_df.groupby(['x','z']).count()\n",
    "print (counts)"
   ]
  },
  {
   "cell_type": "markdown",
   "metadata": {},
   "source": [
    "#### Creating a new Pandas dataframe with only the information relevant to us. It has two columns: \"pts\" indicates the (x,z) pair and \"count\" indicates the count of distinct y value for each pair"
   ]
  },
  {
   "cell_type": "code",
   "execution_count": 20,
   "metadata": {},
   "outputs": [
    {
     "data": {
      "text/html": [
       "<div>\n",
       "<style scoped>\n",
       "    .dataframe tbody tr th:only-of-type {\n",
       "        vertical-align: middle;\n",
       "    }\n",
       "\n",
       "    .dataframe tbody tr th {\n",
       "        vertical-align: top;\n",
       "    }\n",
       "\n",
       "    .dataframe thead th {\n",
       "        text-align: right;\n",
       "    }\n",
       "</style>\n",
       "<table border=\"1\" class=\"dataframe\">\n",
       "  <thead>\n",
       "    <tr style=\"text-align: right;\">\n",
       "      <th></th>\n",
       "      <th>pts</th>\n",
       "      <th>count</th>\n",
       "    </tr>\n",
       "  </thead>\n",
       "  <tbody>\n",
       "    <tr>\n",
       "      <th>0</th>\n",
       "      <td>(-74.0, 30.0)</td>\n",
       "      <td>1</td>\n",
       "    </tr>\n",
       "    <tr>\n",
       "      <th>1</th>\n",
       "      <td>(-72.0, -36.0)</td>\n",
       "      <td>1</td>\n",
       "    </tr>\n",
       "    <tr>\n",
       "      <th>2</th>\n",
       "      <td>(-72.0, -34.0)</td>\n",
       "      <td>5</td>\n",
       "    </tr>\n",
       "    <tr>\n",
       "      <th>3</th>\n",
       "      <td>(-72.0, -33.0)</td>\n",
       "      <td>1</td>\n",
       "    </tr>\n",
       "    <tr>\n",
       "      <th>4</th>\n",
       "      <td>(-71.0, -38.0)</td>\n",
       "      <td>1</td>\n",
       "    </tr>\n",
       "    <tr>\n",
       "      <th>...</th>\n",
       "      <td>...</td>\n",
       "      <td>...</td>\n",
       "    </tr>\n",
       "    <tr>\n",
       "      <th>5889</th>\n",
       "      <td>(73.0, 23.0)</td>\n",
       "      <td>2</td>\n",
       "    </tr>\n",
       "    <tr>\n",
       "      <th>5890</th>\n",
       "      <td>(73.0, 24.0)</td>\n",
       "      <td>1</td>\n",
       "    </tr>\n",
       "    <tr>\n",
       "      <th>5891</th>\n",
       "      <td>(74.0, 17.0)</td>\n",
       "      <td>1</td>\n",
       "    </tr>\n",
       "    <tr>\n",
       "      <th>5892</th>\n",
       "      <td>(74.0, 23.0)</td>\n",
       "      <td>2</td>\n",
       "    </tr>\n",
       "    <tr>\n",
       "      <th>5893</th>\n",
       "      <td>(75.0, 23.0)</td>\n",
       "      <td>1</td>\n",
       "    </tr>\n",
       "  </tbody>\n",
       "</table>\n",
       "<p>5894 rows × 2 columns</p>\n",
       "</div>"
      ],
      "text/plain": [
       "                 pts  count\n",
       "0      (-74.0, 30.0)      1\n",
       "1     (-72.0, -36.0)      1\n",
       "2     (-72.0, -34.0)      5\n",
       "3     (-72.0, -33.0)      1\n",
       "4     (-71.0, -38.0)      1\n",
       "...              ...    ...\n",
       "5889    (73.0, 23.0)      2\n",
       "5890    (73.0, 24.0)      1\n",
       "5891    (74.0, 17.0)      1\n",
       "5892    (74.0, 23.0)      2\n",
       "5893    (75.0, 23.0)      1\n",
       "\n",
       "[5894 rows x 2 columns]"
      ]
     },
     "execution_count": 20,
     "metadata": {},
     "output_type": "execute_result"
    }
   ],
   "source": [
    "pcd_new = pd.DataFrame({'pts':pts.values,'count':counts['y']})\n",
    "pcd_new.reset_index(drop=True,inplace=True)\n",
    "pcd_new"
   ]
  },
  {
   "cell_type": "markdown",
   "metadata": {},
   "source": [
    "#### To decide threshold for creating the occupancy grid, we display the statistics for our new dataframe, noting the mean and the standard deviation of the count "
   ]
  },
  {
   "cell_type": "code",
   "execution_count": 6,
   "metadata": {},
   "outputs": [
    {
     "data": {
      "text/html": [
       "<div>\n",
       "<style scoped>\n",
       "    .dataframe tbody tr th:only-of-type {\n",
       "        vertical-align: middle;\n",
       "    }\n",
       "\n",
       "    .dataframe tbody tr th {\n",
       "        vertical-align: top;\n",
       "    }\n",
       "\n",
       "    .dataframe thead th {\n",
       "        text-align: right;\n",
       "    }\n",
       "</style>\n",
       "<table border=\"1\" class=\"dataframe\">\n",
       "  <thead>\n",
       "    <tr style=\"text-align: right;\">\n",
       "      <th></th>\n",
       "      <th>count</th>\n",
       "    </tr>\n",
       "  </thead>\n",
       "  <tbody>\n",
       "    <tr>\n",
       "      <th>count</th>\n",
       "      <td>5894.000000</td>\n",
       "    </tr>\n",
       "    <tr>\n",
       "      <th>mean</th>\n",
       "      <td>1.436206</td>\n",
       "    </tr>\n",
       "    <tr>\n",
       "      <th>std</th>\n",
       "      <td>0.939500</td>\n",
       "    </tr>\n",
       "    <tr>\n",
       "      <th>min</th>\n",
       "      <td>1.000000</td>\n",
       "    </tr>\n",
       "    <tr>\n",
       "      <th>25%</th>\n",
       "      <td>1.000000</td>\n",
       "    </tr>\n",
       "    <tr>\n",
       "      <th>50%</th>\n",
       "      <td>1.000000</td>\n",
       "    </tr>\n",
       "    <tr>\n",
       "      <th>75%</th>\n",
       "      <td>1.000000</td>\n",
       "    </tr>\n",
       "    <tr>\n",
       "      <th>max</th>\n",
       "      <td>7.000000</td>\n",
       "    </tr>\n",
       "  </tbody>\n",
       "</table>\n",
       "</div>"
      ],
      "text/plain": [
       "             count\n",
       "count  5894.000000\n",
       "mean      1.436206\n",
       "std       0.939500\n",
       "min       1.000000\n",
       "25%       1.000000\n",
       "50%       1.000000\n",
       "75%       1.000000\n",
       "max       7.000000"
      ]
     },
     "execution_count": 6,
     "metadata": {},
     "output_type": "execute_result"
    }
   ],
   "source": [
    "pcd_new[['count']].describe()"
   ]
  },
  {
   "cell_type": "markdown",
   "metadata": {},
   "source": [
    "#### Storing the (x,z) pairs (which will become our points in the occupancy grid) into an array"
   ]
  },
  {
   "cell_type": "code",
   "execution_count": 23,
   "metadata": {},
   "outputs": [],
   "source": [
    "pts_array = pcd_new['pts'].values"
   ]
  },
  {
   "cell_type": "markdown",
   "metadata": {},
   "source": [
    "#### Creating an empty 200*200 array and marking points (basically the (x,z) pairs) where the count of y exceeds a certain threshold (in this case >1)"
   ]
  },
  {
   "cell_type": "code",
   "execution_count": 24,
   "metadata": {},
   "outputs": [],
   "source": [
    "img = np.zeros((200,200,1), np.uint8)\n",
    "for i in range(len(pts_array)):\n",
    "    ind = (pts_array[i][0] + 100,pts_array[i][1]+ 100)\n",
    "    county = pcd_new.iloc[i,1]\n",
    "    if (county>1):\n",
    "#         print (\"I am probably an obstacle!\")\n",
    "        img[int(ind[0])][int(ind[1])] = 1"
   ]
  },
  {
   "cell_type": "markdown",
   "metadata": {},
   "source": [
    "#### Visualising the resultant occupancy grid for 0000000.bin, and saving it as grid.png"
   ]
  },
  {
   "cell_type": "code",
   "execution_count": 25,
   "metadata": {},
   "outputs": [
    {
     "data": {
      "text/plain": [
       "<matplotlib.image.AxesImage at 0x7fa674e16c18>"
      ]
     },
     "execution_count": 25,
     "metadata": {},
     "output_type": "execute_result"
    },
    {
     "data": {
      "image/png": "[encoded data removed]",
      "text/plain": [
       "<Figure size 432x288 with 1 Axes>"
      ]
     },
     "metadata": {
      "needs_background": "light"
     },
     "output_type": "display_data"
    }
   ],
   "source": [
    "img = cv.resize(img,(700,700))\n",
    "im = cv.imwrite('grid.png',img*255)\n",
    "imip = cv.imread('grid.png')\n",
    "plt.imshow(imip)"
   ]
  },
  {
   "cell_type": "markdown",
   "metadata": {},
   "source": [
    "### Modularising the concept explained so far..."
   ]
  },
  {
   "cell_type": "markdown",
   "metadata": {},
   "source": [
    "#### Function to compute occupancy grid for an individual pcd. \n",
    "`Input`: pcd (an individual point cloud (or a net_pcd resulting from addition of multiple pcds)\n",
    "\n",
    "`Output`: An 400*400 array representing the image of the occupancy grid\n",
    "\n",
    "`Usage`: img = computeGrid_individual_pcd(individual_pcd)"
   ]
  },
  {
   "cell_type": "code",
   "execution_count": 11,
   "metadata": {},
   "outputs": [],
   "source": [
    "def computeGrid_individual_pcd(pcd):\n",
    "    pcd1 = np.round(np.asarray(pcd.points))\n",
    "    pcd_df = pd.DataFrame(data=pcd1,columns=['x','y','z'])\n",
    "    pcd_df.drop_duplicates(subset = [\"y\",\"x\",\"z\"],inplace=True)\n",
    "    pts = pcd_df.groupby(['x','z']).count().index\n",
    "    counts = pcd_df.groupby(['x','z']).count()\n",
    "    pcd_new = pd.DataFrame({'pts':pts.values,'count':counts['y']})\n",
    "    pcd_new.reset_index(drop=True,inplace=True)\n",
    "    pts_array = pcd_new['pts'].values\n",
    "    img = np.zeros((400,400,1), np.uint8)\n",
    "    for j in range(len(pts_array)):\n",
    "        ind = (pts_array[j][0] + 200,pts_array[j][1]+ 200)\n",
    "        county = pcd_new.iloc[j,1]\n",
    "        if (county>2):\n",
    "    #         print (\"I am probably an obstacle!\")\n",
    "            img[int(ind[0])][int(ind[1])] = 1\n",
    "    return img"
   ]
  },
  {
   "cell_type": "markdown",
   "metadata": {},
   "source": [
    "#### Function to compute occupancy grid of a LIDAR bin file indicated by a certain index\n",
    "`Input`: the index of the LIDAR bin file to read and process for creation of occupancy grid\n",
    "\n",
    "`Output`: An 400*400 array representing the image of the occupancy grid\n",
    "\n",
    "`Usage`: img = computeGrid(index_of_bin_file)"
   ]
  },
  {
   "cell_type": "code",
   "execution_count": 12,
   "metadata": {},
   "outputs": [],
   "source": [
    "def computeGrid(i):\n",
    "    poses = computePoseCameraFrame(i)\n",
    "    pcd = o3d.geometry.PointCloud()\n",
    "    pcd.points = o3d.utility.Vector3dVector(poses[:,:3])\n",
    "    pcd1 = np.round(np.asarray(pcd.points))\n",
    "    pcd_df = pd.DataFrame(data=pcd1,columns=['x','y','z'])\n",
    "    pcd_df.drop_duplicates(subset = [\"y\",\"x\",\"z\"],inplace=True)\n",
    "    pts = pcd_df.groupby(['x','z']).count().index\n",
    "    counts = pcd_df.groupby(['x','z']).count()\n",
    "    pcd_new = pd.DataFrame({'pts':pts.values,'count':counts['y']})\n",
    "    pcd_new.reset_index(drop=True,inplace=True)\n",
    "    pts_array = pcd_new['pts'].values\n",
    "    img = np.zeros((400,400,1), np.uint8)\n",
    "    for j in range(len(pts_array)):\n",
    "        ind = (pts_array[j][0] + 200,pts_array[j][1]+ 200)\n",
    "        county = pcd_new.iloc[j,1]\n",
    "        if (county>1):\n",
    "    #         print (\"I am probably an obstacle!\")\n",
    "            img[int(ind[0])][int(ind[1])] = 1\n",
    "    return img"
   ]
  },
  {
   "cell_type": "markdown",
   "metadata": {},
   "source": [
    "### Part a) Create an occupancy grid map for each LiDAR scan. For the purpose of this assignment, you do not need to apply bayesian update rules and each individual scan can be assumed as a prior. Save each scan as a binary png"
   ]
  },
  {
   "cell_type": "markdown",
   "metadata": {},
   "source": [
    "#### Generating occupancy grid for each of 77 LIDAR bin files and saving them under `data/imgs/cv/`. Occupancy grid for 0000000.bin corresponds to grid0.png, that of 0000001.bin corresponds to grid1.png and so on."
   ]
  },
  {
   "cell_type": "code",
   "execution_count": 29,
   "metadata": {
    "scrolled": false
   },
   "outputs": [],
   "source": [
    "for i in range(77):\n",
    "    img = computeGrid(i)\n",
    "    img = cv.resize(img,(700,700))\n",
    "    filename = '../data/imgs/cv/grid'+str(i)+'.png'\n",
    "    im = cv.imwrite(filename,img*255)"
   ]
  },
  {
   "cell_type": "markdown",
   "metadata": {},
   "source": [
    "### Part b) Using odometry data, concat multiple scans and create a occupancy grid of 5, 10 and 15 scans"
   ]
  },
  {
   "cell_type": "markdown",
   "metadata": {},
   "source": [
    "#### Concat the first 5 LIDAR bin files from 0000000.bin to 0000004.bin using `computePoseCameraFrame()` from 2.1 and displaying the occupancy grid of the net pcd. \n",
    "\n",
    "#### The occupancy grid generated is saved as `grid_for_5.png` under `data/imgs/cv/`"
   ]
  },
  {
   "cell_type": "code",
   "execution_count": 13,
   "metadata": {},
   "outputs": [
    {
     "data": {
      "text/plain": [
       "<matplotlib.image.AxesImage at 0x7fa674ea24e0>"
      ]
     },
     "execution_count": 13,
     "metadata": {},
     "output_type": "execute_result"
    },
    {
     "data": {
      "image/png": "[encoded data removed]",
      "text/plain": [
       "<Figure size 432x288 with 1 Axes>"
      ]
     },
     "metadata": {
      "needs_background": "light"
     },
     "output_type": "display_data"
    }
   ],
   "source": [
    "pcd_net = o3d.geometry.PointCloud()\n",
    "for i in range(5):\n",
    "    poses = computePoseCameraFrame(i)\n",
    "    pcd = o3d.geometry.PointCloud()\n",
    "    pcd.points = o3d.utility.Vector3dVector(poses[:,:3])\n",
    "    pcd_net += pcd\n",
    "# downpcd = pcd_net.voxel_down_sample(voxel_size=1)\n",
    "# o3d.visualization.draw_geometries([downpcd])\n",
    "img_5 = computeGrid_individual_pcd(pcd_net)\n",
    "img_5 = cv.resize(img_5,(700,700))\n",
    "filename = '../data/imgs/cv/grid_for_5.png'\n",
    "im = cv.imwrite(filename,img_5*255)\n",
    "imip = cv.imread('../data/imgs/cv/grid_for_5.png')\n",
    "plt.imshow(imip)"
   ]
  },
  {
   "cell_type": "markdown",
   "metadata": {},
   "source": [
    "#### Concat the first 10 LIDAR bin files from 0000000.bin to 0000009.bin using `computePoseCameraFrame()` from 2.1 and displaying the occupancy grid of the net pcd. \n",
    "\n",
    "#### The occupancy grid generated is saved as `grid_for_10.png` under `data/imgs/cv/`"
   ]
  },
  {
   "cell_type": "code",
   "execution_count": 14,
   "metadata": {},
   "outputs": [
    {
     "data": {
      "text/plain": [
       "<matplotlib.image.AxesImage at 0x7fa674eb7c88>"
      ]
     },
     "execution_count": 14,
     "metadata": {},
     "output_type": "execute_result"
    },
    {
     "data": {
      "image/png": "[encoded data removed]",
      "text/plain": [
       "<Figure size 432x288 with 1 Axes>"
      ]
     },
     "metadata": {
      "needs_background": "light"
     },
     "output_type": "display_data"
    }
   ],
   "source": [
    "pcd_net = o3d.geometry.PointCloud()\n",
    "for i in range(10):\n",
    "    poses = computePoseCameraFrame(i)\n",
    "    pcd = o3d.geometry.PointCloud()\n",
    "    pcd.points = o3d.utility.Vector3dVector(poses[:,:3])\n",
    "    pcd_net += pcd\n",
    "# downpcd = pcd_net.voxel_down_sample(voxel_size=1)\n",
    "# o3d.visualization.draw_geometries([downpcd])\n",
    "img_5 = computeGrid_individual_pcd(pcd_net)\n",
    "img_5 = cv.resize(img_5,(700,700))\n",
    "filename = '../data/imgs/cv/grid_for_10.png'\n",
    "im = cv.imwrite(filename,img_5*255)\n",
    "imip = cv.imread('../data/imgs/cv/grid_for_10.png')\n",
    "plt.imshow(imip)"
   ]
  },
  {
   "cell_type": "markdown",
   "metadata": {},
   "source": [
    "#### Concat the first 15 LIDAR bin files from 0000000.bin to 0000014.bin using `computePoseCameraFrame()` from 2.1 and displaying the occupancy grid of the net pcd. \n",
    "\n",
    "#### The occupancy grid generated is saved as `grid_for_15.png` under `data/imgs/cv/`"
   ]
  },
  {
   "cell_type": "code",
   "execution_count": 15,
   "metadata": {},
   "outputs": [
    {
     "data": {
      "text/plain": [
       "<matplotlib.image.AxesImage at 0x7fa674e4dfd0>"
      ]
     },
     "execution_count": 15,
     "metadata": {},
     "output_type": "execute_result"
    },
    {
     "data": {
      "image/png": "[encoded data removed]",
      "text/plain": [
       "<Figure size 432x288 with 1 Axes>"
      ]
     },
     "metadata": {
      "needs_background": "light"
     },
     "output_type": "display_data"
    }
   ],
   "source": [
    "pcd_net = o3d.geometry.PointCloud()\n",
    "for i in range(15):\n",
    "    poses = computePoseCameraFrame(i)\n",
    "    pcd = o3d.geometry.PointCloud()\n",
    "    pcd.points = o3d.utility.Vector3dVector(poses[:,:3])\n",
    "    pcd_net += pcd\n",
    "# downpcd = pcd_net.voxel_down_sample(voxel_size=1)\n",
    "# o3d.visualization.draw_geometries([downpcd])\n",
    "img_5 = computeGrid_individual_pcd(pcd_net)\n",
    "img_5 = cv.resize(img_5,(700,700))\n",
    "filename = '../data/imgs/cv/grid_for_15.png'\n",
    "im = cv.imwrite(filename,img_5*255)\n",
    "imip = cv.imread('../data/imgs/cv/grid_for_15.png')\n",
    "plt.imshow(imip)"
   ]
  },
  {
   "cell_type": "code",
   "execution_count": null,
   "metadata": {},
   "outputs": [],
   "source": []
  },
  {
   "cell_type": "code",
   "execution_count": null,
   "metadata": {},
   "outputs": [],
   "source": []
  }
 ],
 "metadata": {
  "kernelspec": {
   "display_name": "Python 3",
   "language": "python",
   "name": "python3"
  },
  "language_info": {
   "codemirror_mode": {
    "name": "ipython",
    "version": 3
   },
   "file_extension": ".py",
   "mimetype": "text/x-python",
   "name": "python",
   "nbconvert_exporter": "python",
   "pygments_lexer": "ipython3",
   "version": "3.6.9"
  }
 },
 "nbformat": 4,
 "nbformat_minor": 4
}
