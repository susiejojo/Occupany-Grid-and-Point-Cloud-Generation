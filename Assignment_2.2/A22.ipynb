{
 "cells": [
  {
   "cell_type": "code",
   "execution_count": 1,
   "metadata": {},
   "outputs": [],
   "source": [
    "import sys\n",
    "import numpy as np\n",
    "import open3d as o3d\n",
    "import cv2 as cv\n",
    "import matplotlib.pyplot as plt\n",
    "import pandas as pd\n",
    "import IPython\n",
    "from PIL import Image\n",
    "# sys.path.insert(1, \"../dataset\")\n",
    "sys.path.insert(1, \"../Assignment_2.1\")\n",
    "from A21 import computePoseCameraFrame"
   ]
  },
  {
   "cell_type": "code",
   "execution_count": 3,
   "metadata": {},
   "outputs": [
    {
     "name": "stdout",
     "output_type": "stream",
     "text": [
      "../dataset/01/000000.bin\n",
      "Hello 2.1!\n",
      "[[ -6.  -2.  52.]\n",
      " [-13.  -3.  79.]\n",
      " [-13.  -3.  79.]\n",
      " ...\n",
      " [  1.   2.   4.]\n",
      " [  1.   2.   4.]\n",
      " [  1.   2.   4.]]\n"
     ]
    }
   ],
   "source": [
    "poses = computePoseCameraFrame(0)\n",
    "pcd = o3d.geometry.PointCloud()\n",
    "pcd.points = o3d.utility.Vector3dVector(poses[:,:3])\n",
    "# print (np.asarray(pcd.points))\n",
    "o3d.visualization.draw_geometries([pcd])\n",
    "pcd1 = np.round(np.asarray(pcd.points))\n",
    "print (pcd1)"
   ]
  },
  {
   "cell_type": "code",
   "execution_count": 4,
   "metadata": {},
   "outputs": [
    {
     "name": "stdout",
     "output_type": "stream",
     "text": [
      "             y\n",
      "x     z       \n",
      "-74.0  30.0  1\n",
      "-72.0 -36.0  1\n",
      "      -34.0  5\n",
      "      -33.0  1\n",
      "-71.0 -38.0  1\n",
      "...         ..\n",
      " 73.0  23.0  2\n",
      "       24.0  1\n",
      " 74.0  17.0  1\n",
      "       23.0  2\n",
      " 75.0  23.0  1\n",
      "\n",
      "[5894 rows x 1 columns]\n"
     ]
    }
   ],
   "source": [
    "pcd_df = pd.DataFrame(data=pcd1,columns=['x','y','z'])\n",
    "pcd_df.drop_duplicates(subset = [\"y\",\"x\",\"z\"],inplace=True)\n",
    "pts = pcd_df.groupby(['x','z']).count().index\n",
    "counts = pcd_df.groupby(['x','z']).count()\n",
    "print (counts)"
   ]
  },
  {
   "cell_type": "code",
   "execution_count": 5,
   "metadata": {},
   "outputs": [
    {
     "data": {
      "text/plain": [
       "array([(-74.0, 30.0), (-72.0, -36.0), (-72.0, -34.0), ..., (74.0, 17.0),\n",
       "       (74.0, 23.0), (75.0, 23.0)], dtype=object)"
      ]
     },
     "execution_count": 5,
     "metadata": {},
     "output_type": "execute_result"
    }
   ],
   "source": [
    "pts.values"
   ]
  },
  {
   "cell_type": "code",
   "execution_count": 6,
   "metadata": {},
   "outputs": [
    {
     "data": {
      "text/html": [
       "<div>\n",
       "<style scoped>\n",
       "    .dataframe tbody tr th:only-of-type {\n",
       "        vertical-align: middle;\n",
       "    }\n",
       "\n",
       "    .dataframe tbody tr th {\n",
       "        vertical-align: top;\n",
       "    }\n",
       "\n",
       "    .dataframe thead th {\n",
       "        text-align: right;\n",
       "    }\n",
       "</style>\n",
       "<table border=\"1\" class=\"dataframe\">\n",
       "  <thead>\n",
       "    <tr style=\"text-align: right;\">\n",
       "      <th></th>\n",
       "      <th>pts</th>\n",
       "      <th>count</th>\n",
       "    </tr>\n",
       "  </thead>\n",
       "  <tbody>\n",
       "    <tr>\n",
       "      <th>0</th>\n",
       "      <td>(-74.0, 30.0)</td>\n",
       "      <td>1</td>\n",
       "    </tr>\n",
       "    <tr>\n",
       "      <th>1</th>\n",
       "      <td>(-72.0, -36.0)</td>\n",
       "      <td>1</td>\n",
       "    </tr>\n",
       "    <tr>\n",
       "      <th>2</th>\n",
       "      <td>(-72.0, -34.0)</td>\n",
       "      <td>5</td>\n",
       "    </tr>\n",
       "    <tr>\n",
       "      <th>3</th>\n",
       "      <td>(-72.0, -33.0)</td>\n",
       "      <td>1</td>\n",
       "    </tr>\n",
       "    <tr>\n",
       "      <th>4</th>\n",
       "      <td>(-71.0, -38.0)</td>\n",
       "      <td>1</td>\n",
       "    </tr>\n",
       "    <tr>\n",
       "      <th>...</th>\n",
       "      <td>...</td>\n",
       "      <td>...</td>\n",
       "    </tr>\n",
       "    <tr>\n",
       "      <th>5889</th>\n",
       "      <td>(73.0, 23.0)</td>\n",
       "      <td>2</td>\n",
       "    </tr>\n",
       "    <tr>\n",
       "      <th>5890</th>\n",
       "      <td>(73.0, 24.0)</td>\n",
       "      <td>1</td>\n",
       "    </tr>\n",
       "    <tr>\n",
       "      <th>5891</th>\n",
       "      <td>(74.0, 17.0)</td>\n",
       "      <td>1</td>\n",
       "    </tr>\n",
       "    <tr>\n",
       "      <th>5892</th>\n",
       "      <td>(74.0, 23.0)</td>\n",
       "      <td>2</td>\n",
       "    </tr>\n",
       "    <tr>\n",
       "      <th>5893</th>\n",
       "      <td>(75.0, 23.0)</td>\n",
       "      <td>1</td>\n",
       "    </tr>\n",
       "  </tbody>\n",
       "</table>\n",
       "<p>5894 rows × 2 columns</p>\n",
       "</div>"
      ],
      "text/plain": [
       "                 pts  count\n",
       "0      (-74.0, 30.0)      1\n",
       "1     (-72.0, -36.0)      1\n",
       "2     (-72.0, -34.0)      5\n",
       "3     (-72.0, -33.0)      1\n",
       "4     (-71.0, -38.0)      1\n",
       "...              ...    ...\n",
       "5889    (73.0, 23.0)      2\n",
       "5890    (73.0, 24.0)      1\n",
       "5891    (74.0, 17.0)      1\n",
       "5892    (74.0, 23.0)      2\n",
       "5893    (75.0, 23.0)      1\n",
       "\n",
       "[5894 rows x 2 columns]"
      ]
     },
     "execution_count": 6,
     "metadata": {},
     "output_type": "execute_result"
    }
   ],
   "source": [
    "pcd_new = pd.DataFrame({'pts':pts.values,'count':counts['y']})\n",
    "pcd_new.reset_index(drop=True,inplace=True)\n",
    "pcd_new"
   ]
  },
  {
   "cell_type": "code",
   "execution_count": 7,
   "metadata": {},
   "outputs": [
    {
     "data": {
      "text/html": [
       "<div>\n",
       "<style scoped>\n",
       "    .dataframe tbody tr th:only-of-type {\n",
       "        vertical-align: middle;\n",
       "    }\n",
       "\n",
       "    .dataframe tbody tr th {\n",
       "        vertical-align: top;\n",
       "    }\n",
       "\n",
       "    .dataframe thead th {\n",
       "        text-align: right;\n",
       "    }\n",
       "</style>\n",
       "<table border=\"1\" class=\"dataframe\">\n",
       "  <thead>\n",
       "    <tr style=\"text-align: right;\">\n",
       "      <th></th>\n",
       "      <th>count</th>\n",
       "    </tr>\n",
       "  </thead>\n",
       "  <tbody>\n",
       "    <tr>\n",
       "      <th>count</th>\n",
       "      <td>5894.000000</td>\n",
       "    </tr>\n",
       "    <tr>\n",
       "      <th>mean</th>\n",
       "      <td>1.436206</td>\n",
       "    </tr>\n",
       "    <tr>\n",
       "      <th>std</th>\n",
       "      <td>0.939500</td>\n",
       "    </tr>\n",
       "    <tr>\n",
       "      <th>min</th>\n",
       "      <td>1.000000</td>\n",
       "    </tr>\n",
       "    <tr>\n",
       "      <th>25%</th>\n",
       "      <td>1.000000</td>\n",
       "    </tr>\n",
       "    <tr>\n",
       "      <th>50%</th>\n",
       "      <td>1.000000</td>\n",
       "    </tr>\n",
       "    <tr>\n",
       "      <th>75%</th>\n",
       "      <td>1.000000</td>\n",
       "    </tr>\n",
       "    <tr>\n",
       "      <th>max</th>\n",
       "      <td>7.000000</td>\n",
       "    </tr>\n",
       "  </tbody>\n",
       "</table>\n",
       "</div>"
      ],
      "text/plain": [
       "             count\n",
       "count  5894.000000\n",
       "mean      1.436206\n",
       "std       0.939500\n",
       "min       1.000000\n",
       "25%       1.000000\n",
       "50%       1.000000\n",
       "75%       1.000000\n",
       "max       7.000000"
      ]
     },
     "execution_count": 7,
     "metadata": {},
     "output_type": "execute_result"
    }
   ],
   "source": [
    "pcd_new[['count']].describe()"
   ]
  },
  {
   "cell_type": "code",
   "execution_count": 8,
   "metadata": {},
   "outputs": [
    {
     "data": {
      "text/plain": [
       "(-74.0, 30.0)"
      ]
     },
     "execution_count": 8,
     "metadata": {},
     "output_type": "execute_result"
    }
   ],
   "source": [
    "pts_array = pcd_new['pts'].values\n",
    "pts_array[0]"
   ]
  },
  {
   "cell_type": "code",
   "execution_count": 9,
   "metadata": {},
   "outputs": [],
   "source": [
    "img = np.zeros((200,200,1), np.uint8)\n",
    "for i in range(len(pts_array)):\n",
    "    ind = (pts_array[i][0] + 100,pts_array[i][1]+ 100)\n",
    "    county = pcd_new.iloc[i,1]\n",
    "    if (county>1):\n",
    "#         print (\"I am probably an obstacle!\")\n",
    "        img[int(ind[0])][int(ind[1])] = 1"
   ]
  },
  {
   "cell_type": "code",
   "execution_count": 10,
   "metadata": {},
   "outputs": [],
   "source": [
    "# _,ret = cv.imencode('.jpg', img*255) \n",
    "# i = IPython.display.Image(data=ret)\n",
    "# IPython.display.display(i)"
   ]
  },
  {
   "cell_type": "code",
   "execution_count": 11,
   "metadata": {},
   "outputs": [
    {
     "data": {
      "text/plain": [
       "<matplotlib.image.AxesImage at 0x7f54f8caa0f0>"
      ]
     },
     "execution_count": 11,
     "metadata": {},
     "output_type": "execute_result"
    },
    {
     "data": {
      "image/png": "[encoded data removed]",
      "text/plain": [
       "<Figure size 432x288 with 1 Axes>"
      ]
     },
     "metadata": {
      "needs_background": "light"
     },
     "output_type": "display_data"
    }
   ],
   "source": [
    "img = cv.resize(img,(700,700))\n",
    "im = cv.imwrite('grid.png',img*255)\n",
    "imip = cv.imread('grid.png')\n",
    "plt.imshow(imip)"
   ]
  },
  {
   "cell_type": "code",
   "execution_count": 8,
   "metadata": {},
   "outputs": [],
   "source": [
    "def computeGrid(i):\n",
    "    poses = computePoseCameraFrame(i)\n",
    "    pcd = o3d.geometry.PointCloud()\n",
    "    pcd.points = o3d.utility.Vector3dVector(poses[:,:3])\n",
    "    pcd1 = np.round(np.asarray(pcd.points))\n",
    "    pcd_df = pd.DataFrame(data=pcd1,columns=['x','y','z'])\n",
    "    pcd_df.drop_duplicates(subset = [\"y\",\"x\",\"z\"],inplace=True)\n",
    "    pts = pcd_df.groupby(['x','z']).count().index\n",
    "    counts = pcd_df.groupby(['x','z']).count()\n",
    "    pcd_new = pd.DataFrame({'pts':pts.values,'count':counts['y']})\n",
    "    pcd_new.reset_index(drop=True,inplace=True)\n",
    "    pts_array = pcd_new['pts'].values\n",
    "    img = np.zeros((400,400,1), np.uint8)\n",
    "    for j in range(len(pts_array)):\n",
    "        ind = (pts_array[j][0] + 200,pts_array[j][1]+ 200)\n",
    "        county = pcd_new.iloc[j,1]\n",
    "        if (county>1):\n",
    "    #         print (\"I am probably an obstacle!\")\n",
    "            img[int(ind[0])][int(ind[1])] = 1\n",
    "    return img"
   ]
  },
  {
   "cell_type": "code",
   "execution_count": 14,
   "metadata": {},
   "outputs": [],
   "source": [
    "def computeGrid_individual_pcd(pcd):\n",
    "    pcd1 = np.round(np.asarray(pcd.points))\n",
    "    pcd_df = pd.DataFrame(data=pcd1,columns=['x','y','z'])\n",
    "    pcd_df.drop_duplicates(subset = [\"y\",\"x\",\"z\"],inplace=True)\n",
    "    pts = pcd_df.groupby(['x','z']).count().index\n",
    "    counts = pcd_df.groupby(['x','z']).count()\n",
    "    pcd_new = pd.DataFrame({'pts':pts.values,'count':counts['y']})\n",
    "    pcd_new.reset_index(drop=True,inplace=True)\n",
    "    pts_array = pcd_new['pts'].values\n",
    "    img = np.zeros((400,400,1), np.uint8)\n",
    "    for j in range(len(pts_array)):\n",
    "        ind = (pts_array[j][0] + 200,pts_array[j][1]+ 200)\n",
    "        county = pcd_new.iloc[j,1]\n",
    "        if (county>3):\n",
    "    #         print (\"I am probably an obstacle!\")\n",
    "            img[int(ind[0])][int(ind[1])] = 1\n",
    "    return img"
   ]
  },
  {
   "cell_type": "code",
   "execution_count": 9,
   "metadata": {
    "scrolled": false
   },
   "outputs": [],
   "source": [
    "for i in range(77):\n",
    "    img = computeGrid(i)\n",
    "    img = cv.resize(img,(700,700))\n",
    "    filename = '../dataset/imgs/cv/grid'+str(i)+'.png'\n",
    "    im = cv.imwrite(filename,img*255)"
   ]
  },
  {
   "cell_type": "code",
   "execution_count": 15,
   "metadata": {},
   "outputs": [
    {
     "data": {
      "text/plain": [
       "<matplotlib.image.AxesImage at 0x7fc381b0c358>"
      ]
     },
     "execution_count": 15,
     "metadata": {},
     "output_type": "execute_result"
    },
    {
     "data": {
      "image/png": "[encoded data removed]",
      "text/plain": [
       "<Figure size 432x288 with 1 Axes>"
      ]
     },
     "metadata": {
      "needs_background": "light"
     },
     "output_type": "display_data"
    }
   ],
   "source": [
    "pcd_net = o3d.geometry.PointCloud()\n",
    "for i in range(5):\n",
    "    poses = computePoseCameraFrame(i)\n",
    "    pcd = o3d.geometry.PointCloud()\n",
    "    pcd.points = o3d.utility.Vector3dVector(poses[:,:3])\n",
    "    pcd_net += pcd\n",
    "downpcd = pcd_net.voxel_down_sample(voxel_size=1)\n",
    "o3d.visualization.draw_geometries([downpcd])\n",
    "img_5 = computeGrid_individual_pcd(pcd_net)\n",
    "img_5 = cv.resize(img_5,(700,700))\n",
    "filename = '../dataset/imgs/cv/grid_for_5.png'\n",
    "im = cv.imwrite(filename,img_5*255)\n",
    "imip = cv.imread('../dataset/imgs/cv/grid_for_5.png')\n",
    "plt.imshow(imip)"
   ]
  },
  {
   "cell_type": "code",
   "execution_count": 16,
   "metadata": {},
   "outputs": [
    {
     "data": {
      "text/plain": [
       "<matplotlib.image.AxesImage at 0x7fc37e6959b0>"
      ]
     },
     "execution_count": 16,
     "metadata": {},
     "output_type": "execute_result"
    },
    {
     "data": {
      "image/png": "[encoded data removed]",
      "text/plain": [
       "<Figure size 432x288 with 1 Axes>"
      ]
     },
     "metadata": {
      "needs_background": "light"
     },
     "output_type": "display_data"
    }
   ],
   "source": [
    "pcd_net = o3d.geometry.PointCloud()\n",
    "for i in range(10):\n",
    "    poses = computePoseCameraFrame(i)\n",
    "    pcd = o3d.geometry.PointCloud()\n",
    "    pcd.points = o3d.utility.Vector3dVector(poses[:,:3])\n",
    "    pcd_net += pcd\n",
    "downpcd = pcd_net.voxel_down_sample(voxel_size=1)\n",
    "o3d.visualization.draw_geometries([downpcd])\n",
    "img_5 = computeGrid_individual_pcd(pcd_net)\n",
    "img_5 = cv.resize(img_5,(700,700))\n",
    "filename = '../dataset/imgs/cv/grid_for_10.png'\n",
    "im = cv.imwrite(filename,img_5*255)\n",
    "imip = cv.imread('../dataset/imgs/cv/grid_for_10.png')\n",
    "plt.imshow(imip)"
   ]
  },
  {
   "cell_type": "code",
   "execution_count": 17,
   "metadata": {},
   "outputs": [
    {
     "data": {
      "text/plain": [
       "<matplotlib.image.AxesImage at 0x7fc37e5fac18>"
      ]
     },
     "execution_count": 17,
     "metadata": {},
     "output_type": "execute_result"
    },
    {
     "data": {
      "image/png": "[encoded data removed]",
      "text/plain": [
       "<Figure size 432x288 with 1 Axes>"
      ]
     },
     "metadata": {
      "needs_background": "light"
     },
     "output_type": "display_data"
    }
   ],
   "source": [
    "pcd_net = o3d.geometry.PointCloud()\n",
    "for i in range(15):\n",
    "    poses = computePoseCameraFrame(i)\n",
    "    pcd = o3d.geometry.PointCloud()\n",
    "    pcd.points = o3d.utility.Vector3dVector(poses[:,:3])\n",
    "    pcd_net += pcd\n",
    "downpcd = pcd_net.voxel_down_sample(voxel_size=1)\n",
    "o3d.visualization.draw_geometries([downpcd])\n",
    "img_5 = computeGrid_individual_pcd(pcd_net)\n",
    "img_5 = cv.resize(img_5,(700,700))\n",
    "filename = '../dataset/imgs/cv/grid_for_15.png'\n",
    "im = cv.imwrite(filename,img_5*255)\n",
    "imip = cv.imread('../dataset/imgs/cv/grid_for_15.png')\n",
    "plt.imshow(imip)"
   ]
  },
  {
   "cell_type": "code",
   "execution_count": null,
   "metadata": {},
   "outputs": [],
   "source": []
  }
 ],
 "metadata": {
  "kernelspec": {
   "display_name": "Python 3",
   "language": "python",
   "name": "python3"
  },
  "language_info": {
   "codemirror_mode": {
    "name": "ipython",
    "version": 3
   },
   "file_extension": ".py",
   "mimetype": "text/x-python",
   "name": "python",
   "nbconvert_exporter": "python",
   "pygments_lexer": "ipython3",
   "version": "3.6.9"
  }
 },
 "nbformat": 4,
 "nbformat_minor": 4
}
