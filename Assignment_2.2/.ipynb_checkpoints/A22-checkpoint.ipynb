{
 "cells": [
  {
   "cell_type": "code",
   "execution_count": 13,
   "metadata": {},
   "outputs": [],
   "source": [
    "import sys\n",
    "import numpy as np\n",
    "import open3d as o3d\n",
    "import cv2 as cv\n",
    "sys.path.insert(1, \"../Assignment_2.1\")\n",
    "from A21 import computePoseCameraFrame"
   ]
  },
  {
   "cell_type": "code",
   "execution_count": 20,
   "metadata": {},
   "outputs": [
    {
     "data": {
      "text/plain": [
       "True"
      ]
     },
     "execution_count": 20,
     "metadata": {},
     "output_type": "execute_result"
    }
   ],
   "source": [
    "pose = computePoseCameraFrame(0)\n",
    "num_points = np.shape(pose)[0]\n",
    "colours = np.zeros([num_points, 3])\n",
    "pcd_net = o3d.geometry.PointCloud()\n",
    "pcd = o3d.geometry.PointCloud()\n",
    "pcd.points = o3d.utility.Vector3dVector(pose[:,:3])\n",
    "pcd.colors = o3d.utility.Vector3dVector(colours)\n",
    "downpcd = pcd.voxel_down_sample(voxel_size=1)\n",
    "# o3d.visualization.draw_geometries([downpcd])\n",
    "# o3d.io.write_image(\"../dataset/imgs/0.png\", downpcd)\n",
    "path = \"../dataset/imgs/0.png\"\n",
    "vis = o3d.visualization.Visualizer()\n",
    "vis.create_window()\n",
    "vis.add_geometry(downpcd)\n",
    "# vis.update_geometry()\n",
    "vis.poll_events()\n",
    "vis.update_renderer()\n",
    "vis.capture_screen_image(path)\n",
    "vis.destroy_window()\n",
    "img = cv.imread(\"../dataset/imgs/0.png\")\n",
    "img = cv.bitwise_not(img)\n",
    "cv.imwrite(\"../dataset/imgs/0.png\", img)"
   ]
  },
  {
   "cell_type": "code",
   "execution_count": null,
   "metadata": {},
   "outputs": [],
   "source": []
  }
 ],
 "metadata": {
  "kernelspec": {
   "display_name": "Python 3",
   "language": "python",
   "name": "python3"
  },
  "language_info": {
   "codemirror_mode": {
    "name": "ipython",
    "version": 3
   },
   "file_extension": ".py",
   "mimetype": "text/x-python",
   "name": "python",
   "nbconvert_exporter": "python",
   "pygments_lexer": "ipython3",
   "version": "3.7.9"
  }
 },
 "nbformat": 4,
 "nbformat_minor": 4
}
