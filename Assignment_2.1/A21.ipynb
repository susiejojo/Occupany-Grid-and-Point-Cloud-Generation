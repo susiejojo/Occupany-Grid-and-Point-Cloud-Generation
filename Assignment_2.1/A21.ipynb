{
 "cells": [
  {
   "cell_type": "code",
   "execution_count": 1,
   "metadata": {},
   "outputs": [],
   "source": [
    "import sys\n",
    "import numpy as np\n",
    "import open3d as o3d\n",
    "sys.path.insert(1, \"../data\")\n",
    "from utils import readData, readPointCloud"
   ]
  },
  {
   "cell_type": "code",
   "execution_count": 2,
   "metadata": {},
   "outputs": [],
   "source": [
    "ground_truth = readData(\"../data/01.txt\")\n",
    "ground_truth = ground_truth[:77][:]"
   ]
  },
  {
   "cell_type": "code",
   "execution_count": 3,
   "metadata": {},
   "outputs": [],
   "source": [
    "def computeTransformation(point_ind):\n",
    "    ground_truth = readData(\"../data/01.txt\")\n",
    "    ground_truth = ground_truth[:77][:]\n",
    "    T = ground_truth[point_ind][:]\n",
    "    T = np.reshape(T, (3,4))\n",
    "    b = np.array([0,0,0,1])\n",
    "    T = np.vstack ((T,b)) \n",
    "    return T"
   ]
  },
  {
   "cell_type": "code",
   "execution_count": 6,
   "metadata": {},
   "outputs": [],
   "source": [
    "def computePoseCameraFrame(point_ind):\n",
    "    file = \"../data/01/\" + str(point_ind).zfill(6) + \".bin\"\n",
    "    pcd = readPointCloud(file)\n",
    "#     valid = []\n",
    "#     for j in range(len(pcd)):\n",
    "#         dist = np.linalg.norm(pcd[j][:3])\n",
    "#         if dist <= 50 and dist >= 10:\n",
    "#             valid.append(pcd[j])\n",
    "#     pcd = np.asarray(valid)\n",
    "    npts = pcd.shape[0]\n",
    "    lidar_to_cam = np.array([[0,-1,0,0],[0,0,-1,0],[1,0,0,0],[0,0,0,1]])\n",
    "    pcd = np.hstack((pcd[:,:3],np.ones((npts,1))))\n",
    "    poses = np.dot(np.asarray(pcd),lidar_to_cam.T)\n",
    "    poses = np.dot(poses,computeTransformation(point_ind).T)\n",
    "    return poses"
   ]
  },
  {
   "cell_type": "code",
   "execution_count": 7,
   "metadata": {},
   "outputs": [],
   "source": [
    "pcd_net = o3d.geometry.PointCloud()\n",
    "for i in range(77):\n",
    "    poses = computePoseCameraFrame(i)\n",
    "    pcd = o3d.geometry.PointCloud()\n",
    "    pcd.points = o3d.utility.Vector3dVector(poses[:,:3])\n",
    "    pcd_net += pcd\n",
    "downpcd = pcd_net.voxel_down_sample(voxel_size=1)\n",
    "o3d.visualization.draw_geometries([downpcd])"
   ]
  },
  {
   "cell_type": "markdown",
   "metadata": {},
   "source": [
    "Firstly, and most importantly, for point cloud registrations, we used the transformation matrix details given in the file 01.txt, reshaped them to form matrices of the following type:\n",
    "\\begin{align}\n",
    "T = [R|t]_{3 \\times 4}\n",
    "\\end{align}\n",
    "\n",
    "Since our points are in 3D space ($Q$), our transformed point cloud ($P$) will look like this:\n",
    "\\begin{align}\n",
    "P = RQ + t\n",
    "\\end{align}\n",
    "\n",
    "Instead of having to perform matrix multiplication and vector addition at every iteration in the process, we made the following changes to our data representation for easier computation - each point in 3D was converted into its homogeneous coordinate representation by appending a 1 at the end of the vector, i.e.,\n",
    "\\begin{align}\n",
    "Q_{3 \\times 1} = \\begin{bmatrix} x \\\\ y \\\\ z \\end{bmatrix} \\implies Q_{hc} = \\begin{bmatrix} x \\\\ y \\\\ z \\\\ 1\\end{bmatrix} \n",
    "\\end{align}\n",
    "and the transformation matrix was changed to look like this {SE(3) representation}:\n",
    "\n",
    "\n",
    "\n",
    "\\begin{align}\n",
    "T_{hc} = \\begin{bmatrix} R & t\\\\ \\mathbf{0}^T & 1 \\end{bmatrix}\n",
    "\\end{align}\n",
    "\n",
    "Because of this, our new point cloud representation looks like this:\n",
    "\\begin{align}\n",
    "P_{hc} = T_{hc}Q_{hc} = \\begin{bmatrix} x' \\\\ y' \\\\ z' \\\\ 1 \\end{bmatrix} \\implies P = \\begin{bmatrix} x' \\\\ y' \\\\ z' \\end{bmatrix}\n",
    "\\end{align}\n",
    "\n",
    "Now, since our frame of concern is the camera frame, and the points are observed in the LiDAR frame, it is necessary to apply the transformation on the points so that we go from the LiDAR frame into the camera frame. This transformation is applied before the above transformations to bring us to the camera frame from the LiDAR frame and aid us in the next part of the assignment as well. The transformation matrix for the same is:\\\n",
    "![Frame Orientations](../README/v1.png)\n",
    "\\begin{align}\n",
    "Q^{lidar} = T_{camera}^{lidar} Q^{camera} \\\\ \\\\\n",
    "T_{camera}^{lidar} = \\begin{bmatrix} R_{camera}^{lidar} & t_{camera}^{lidar} \\\\ \\mathbf{0}^T & 1 \\end{bmatrix} \\\\ \\\\\n",
    "R_{camera}^{lidar} = \\begin{bmatrix} \\hat{x}_{cam} \\hat{x}_{lidar} & \\hat{y}_{cam} \\hat{x}_{lidar} & \\hat{z}_{cam} \\hat{x}_{lidar} \\\\ \\hat{x}_{cam} \\hat{y}_{lidar} & \\hat{y}_{cam} \\hat{y}_{lidar} & \\hat{z}_{cam} \\hat{y}_{lidar} \\\\ \\hat{x}_{cam} \\hat{z}_{lidar} & \\hat{y}_{cam} \\hat{z}_{lidar} & \\hat{z}_{cam} \\hat{z}_{lidar} \\end{bmatrix} \\\\ \\\\\n",
    "R_{camera}^{lidar} = \\begin{bmatrix} 0 & -1 & 0 \\\\ 0 & 0 & -1 \\\\ 1 & 0 & 0 \\end{bmatrix} \\\\ \\\\\n",
    "t_{camera}^{lidar} = \\begin{bmatrix} 0 \\\\ 0 \\\\ 0 \\end{bmatrix} \\\\ \\\\\n",
    "\\therefore T_{camera}^{lidar} = \\begin{bmatrix} 0 & -1 & 0 & 0 \\\\ 0 & 0 & -1 & 0 \\\\ 1 & 0 & 0 & 0 \\\\ 0 & 0 & 0 & 1 \\end{bmatrix} \\\\ \n",
    "\\end{align}\n",
    "\n",
    "Just so that we don't fall into any confusion in the process, since we changed the coordinate representation from being a 3x1 vector to a 4x1 vector, we changes the above transformation matrix into a 4x4 matrix, similar to how the above $T_{hc}$ was written, just that the $t$ vector here is the $\\mathbf{0}_{3 \\times 1}$ vector.\n"
   ]
  },
  {
   "cell_type": "markdown",
   "metadata": {},
   "source": [
    "Contributions by team members:\n",
    "\n",
    "Sudhansh: Setting up transformations in homogeneous system, data restructuring, report\n",
    "\n",
    "Dipanwita: Pose computations, plotting, occupancy grid generation (in 2.2) and concatenation of point clouds (in 2.1)"
   ]
  },
  {
   "cell_type": "code",
   "execution_count": null,
   "metadata": {},
   "outputs": [],
   "source": []
  }
 ],
 "metadata": {
  "kernelspec": {
   "display_name": "Python 3",
   "language": "python",
   "name": "python3"
  },
  "language_info": {
   "codemirror_mode": {
    "name": "ipython",
    "version": 3
   },
   "file_extension": ".py",
   "mimetype": "text/x-python",
   "name": "python",
   "nbconvert_exporter": "python",
   "pygments_lexer": "ipython3",
   "version": "3.6.9"
  }
 },
 "nbformat": 4,
 "nbformat_minor": 4
}
