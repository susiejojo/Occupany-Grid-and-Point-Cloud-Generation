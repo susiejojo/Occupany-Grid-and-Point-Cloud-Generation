{
 "cells": [
  {
   "cell_type": "code",
   "execution_count": 1,
   "metadata": {},
   "outputs": [],
   "source": [
    "import sys\n",
    "import numpy as np\n",
    "import open3d as o3d\n",
    "sys.path.insert(1, \"../dataset\")\n",
    "from utils import readData, readPointCloud"
   ]
  },
  {
   "cell_type": "code",
   "execution_count": 2,
   "metadata": {},
   "outputs": [],
   "source": [
    "ground_truth = readData(\"../dataset/01.txt\")\n",
    "ground_truth = ground_truth[:77][:]\n",
    "pc = []\n",
    "for i in range(1):\n",
    "    file = \"../dataset/01/\" + str(i).zfill(6) + \".bin\"\n",
    "    data = readPointCloud(file)\n",
    "    valid = []\n",
    "    for j in range(len(data)):\n",
    "        dist = np.linalg.norm(data[j][:2])\n",
    "        if dist <= 50 and dist >= 10:\n",
    "            valid.append(data[j])\n",
    "    pc.append(valid)"
   ]
  },
  {
   "cell_type": "code",
   "execution_count": 3,
   "metadata": {},
   "outputs": [],
   "source": [
    "def computePose(ground_truth, pc):\n",
    "    final_pose = []\n",
    "    for i in range(1):\n",
    "        T = ground_truth[i][:]\n",
    "        T = np.reshape(T, (3,4))\n",
    "        current_poses = []\n",
    "        for j in range(len(pc[i])):\n",
    "            inst_pc = pc[i][j][:3]\n",
    "            inst_pc = np.transpose(np.append(inst_pc, [1]))\n",
    "            pose = np.matmul(T, inst_pc)\n",
    "            current_poses.append(pose)\n",
    "        final_pose.append(current_poses)\n",
    "    return final_pose"
   ]
  },
  {
   "cell_type": "code",
   "execution_count": 4,
   "metadata": {},
   "outputs": [
    {
     "name": "stdout",
     "output_type": "stream",
     "text": [
      "(62854, 3)\n"
     ]
    }
   ],
   "source": [
    "res = computePose(ground_truth, pc)\n",
    "print(np.shape(res[0]))"
   ]
  },
  {
   "cell_type": "code",
   "execution_count": 56,
   "metadata": {},
   "outputs": [
    {
     "name": "stdout",
     "output_type": "stream",
     "text": [
      "(122850, 4)\n",
      "<class 'open3d.open3d_pybind.geometry.PointCloud'>\n"
     ]
    }
   ],
   "source": [
    "pcd_ip = readPointCloud(\"../dataset/01/000025.bin\")\n",
    "pcd = o3d.geometry.PointCloud()\n",
    "print (pcd_ip.shape)\n",
    "pcd.points = o3d.utility.Vector3dVector(pcd_ip[:,:3])\n",
    "downpcd = pcd.voxel_down_sample(voxel_size=0.05)\n",
    "# pcd = o3d.io.read_point_cloud(pcd_ip)\n",
    "print (type(pcd))\n",
    "o3d.visualization.draw_geometries([downpcd])"
   ]
  },
  {
   "cell_type": "code",
   "execution_count": null,
   "metadata": {},
   "outputs": [],
   "source": []
  }
 ],
 "metadata": {
  "kernelspec": {
   "display_name": "Python 3",
   "language": "python",
   "name": "python3"
  },
  "language_info": {
   "codemirror_mode": {
    "name": "ipython",
    "version": 3
   },
   "file_extension": ".py",
   "mimetype": "text/x-python",
   "name": "python",
   "nbconvert_exporter": "python",
   "pygments_lexer": "ipython3",
   "version": "3.6.9"
  }
 },
 "nbformat": 4,
 "nbformat_minor": 4
}
