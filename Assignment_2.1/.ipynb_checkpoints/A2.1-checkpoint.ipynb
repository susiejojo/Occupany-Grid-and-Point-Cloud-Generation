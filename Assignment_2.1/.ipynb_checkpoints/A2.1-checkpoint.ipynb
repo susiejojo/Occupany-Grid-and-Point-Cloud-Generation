{
 "cells": [
  {
   "cell_type": "code",
   "execution_count": 18,
   "metadata": {},
   "outputs": [],
   "source": [
    "import sys\n",
    "import numpy as np\n",
    "sys.path.insert(1, \"../dataset\")\n",
    "from utils import readData, readPointCloud"
   ]
  },
  {
   "cell_type": "code",
   "execution_count": 24,
   "metadata": {},
   "outputs": [],
   "source": [
    "ground_truth = readData(\"../dataset/01.txt\")\n",
    "ground_truth = ground_truth[:77][:]\n",
    "pc = []\n",
    "for i in range(1):\n",
    "    file = \"../dataset/01/\" + str(i).zfill(6) + \".bin\"\n",
    "    data = readPointCloud(file)\n",
    "    valid = []\n",
    "    for j in range(len(data)):\n",
    "        dist = np.linalg.norm(data[j][:2])\n",
    "        if dist <= 50 and dist >= 10:\n",
    "            valid.append(data[j])\n",
    "    pc.append(valid)"
   ]
  },
  {
   "cell_type": "code",
   "execution_count": 25,
   "metadata": {},
   "outputs": [],
   "source": [
    "def computePose(ground_truth, pc):\n",
    "    final_pose = []\n",
    "    for i in range(1):\n",
    "        T = ground_truth[i][:]\n",
    "        T = np.reshape(T, (3,4))\n",
    "        current_poses = []\n",
    "        for j in range(len(pc[i])):\n",
    "            inst_pc = pc[i][j][:3]\n",
    "            inst_pc = np.transpose(np.append(inst_pc, [1]))\n",
    "            pose = np.matmul(T, inst_pc)\n",
    "            current_poses.append(pose)\n",
    "        final_pose.append(current_poses)\n",
    "    return final_pose"
   ]
  },
  {
   "cell_type": "code",
   "execution_count": 26,
   "metadata": {},
   "outputs": [
    {
     "name": "stdout",
     "output_type": "stream",
     "text": [
      "(62854, 3)\n"
     ]
    }
   ],
   "source": [
    "res = computePose(ground_truth, pc)\n",
    "print(np.shape(res[0]))"
   ]
  }
 ],
 "metadata": {
  "kernelspec": {
   "display_name": "Python 3",
   "language": "python",
   "name": "python3"
  },
  "language_info": {
   "codemirror_mode": {
    "name": "ipython",
    "version": 3
   },
   "file_extension": ".py",
   "mimetype": "text/x-python",
   "name": "python",
   "nbconvert_exporter": "python",
   "pygments_lexer": "ipython3",
   "version": "3.7.9"
  }
 },
 "nbformat": 4,
 "nbformat_minor": 4
}
