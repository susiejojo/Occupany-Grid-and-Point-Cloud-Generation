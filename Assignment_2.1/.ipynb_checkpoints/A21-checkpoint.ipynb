{
 "cells": [
  {
   "cell_type": "code",
   "execution_count": 1,
   "metadata": {},
   "outputs": [],
   "source": [
    "import sys\n",
    "import numpy as np\n",
    "import open3d as o3d\n",
    "sys.path.insert(1, \"../dataset\")\n",
    "from utils import readData, readPointCloud"
   ]
  },
  {
   "cell_type": "code",
   "execution_count": 2,
   "metadata": {},
   "outputs": [],
   "source": [
    "ground_truth = readData(\"../dataset/01.txt\")\n",
    "ground_truth = ground_truth[:77][:]\n",
    "pc = []\n",
    "for i in range(1):\n",
    "    file = \"../dataset/01/\" + str(i).zfill(6) + \".bin\"\n",
    "    data = readPointCloud(file)\n",
    "    valid = []\n",
    "    for j in range(len(data)):\n",
    "        dist = np.linalg.norm(data[j][:2])\n",
    "        if dist <= 50 and dist >= 10:\n",
    "            valid.append(data[j])\n",
    "    pc.append(valid)"
   ]
  },
  {
   "cell_type": "code",
   "execution_count": 3,
   "metadata": {},
   "outputs": [],
   "source": [
    "def computeTransformation(point_ind):\n",
    "#     final_pose = []\n",
    "    T = ground_truth[point_ind][:]\n",
    "    T = np.reshape(T, (3,4))\n",
    "    b = np.array([0,0,0,1])\n",
    "    T = np.vstack ((T,b)) \n",
    "#     print (T.shape)\n",
    "    return T"
   ]
  },
  {
   "cell_type": "code",
   "execution_count": 4,
   "metadata": {},
   "outputs": [],
   "source": [
    "# print (ground_truth.shape)\n",
    "res = computeTransformation(76)\n",
    "# print(np.shape(res[0]))"
   ]
  },
  {
   "cell_type": "code",
   "execution_count": 7,
   "metadata": {},
   "outputs": [],
   "source": [
    "def computePoseCameraFrame(point_ind):\n",
    "    file = \"../dataset/01/\" + str(point_ind).zfill(6) + \".bin\"\n",
    "    pcd = readPointCloud(file)\n",
    "    npts = pcd.shape[0]\n",
    "    lidar_to_cam = np.array([[0,-1,0,0],[0,0,-1,0],[1,0,0,0],[0,0,0,1]])\n",
    "    pcd = np.hstack((pcd[:,:3],np.ones((npts,1))))\n",
    "    poses = np.dot(np.asarray(pcd),lidar_to_cam.T)\n",
    "    poses = np.dot(poses,computeTransformation(i).T)\n",
    "    return poses"
   ]
  },
  {
   "cell_type": "code",
   "execution_count": 15,
   "metadata": {},
   "outputs": [],
   "source": [
    "pcd_net = o3d.geometry.PointCloud()\n",
    "for i in range(77):\n",
    "    poses = computePoseCameraFrame(i)\n",
    "    pcd = o3d.geometry.PointCloud()\n",
    "    pcd.points = o3d.utility.Vector3dVector(poses[:,:3])\n",
    "    pcd_net += pcd\n",
    "downpcd = pcd_net.voxel_down_sample(voxel_size=1)\n",
    "o3d.visualization.draw_geometries([downpcd])"
   ]
  },
  {
   "cell_type": "code",
   "execution_count": null,
   "metadata": {},
   "outputs": [],
   "source": []
  }
 ],
 "metadata": {
  "kernelspec": {
   "display_name": "Python 3",
   "language": "python",
   "name": "python3"
  },
  "language_info": {
   "codemirror_mode": {
    "name": "ipython",
    "version": 3
   },
   "file_extension": ".py",
   "mimetype": "text/x-python",
   "name": "python",
   "nbconvert_exporter": "python",
   "pygments_lexer": "ipython3",
   "version": "3.6.9"
  }
 },
 "nbformat": 4,
 "nbformat_minor": 4
}
